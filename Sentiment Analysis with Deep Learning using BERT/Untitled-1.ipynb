{
 "cells": [
  {
   "cell_type": "code",
   "execution_count": 177,
   "metadata": {},
   "outputs": [],
   "source": [
    "import numpy as np\n",
    "import pandas as pd\n",
    "import torch\n",
    "import nltk                                # Python library for NLP\n",
    "from nltk.corpus import twitter_samples    # sample Twitter dataset from NLTK\n",
    "import matplotlib.pyplot as plt            # library for visualization\n",
    "import random                              # pseudo-random number generator\n",
    "import seaborn as sns\n",
    "import re                                  # library for regular expression operations\n",
    "import string                              # for string operations\n",
    "\n",
    "from nltk.corpus import stopwords          # module for stop words that come with NLTK\n",
    "from nltk.stem import PorterStemmer        # module for stemming\n",
    "from nltk.tokenize import TweetTokenizer   # module for tokenizing strings"
   ]
  },
  {
   "cell_type": "code",
   "execution_count": 178,
   "metadata": {},
   "outputs": [
    {
     "data": {
      "text/html": [
       "<div>\n",
       "<style scoped>\n",
       "    .dataframe tbody tr th:only-of-type {\n",
       "        vertical-align: middle;\n",
       "    }\n",
       "\n",
       "    .dataframe tbody tr th {\n",
       "        vertical-align: top;\n",
       "    }\n",
       "\n",
       "    .dataframe thead th {\n",
       "        text-align: right;\n",
       "    }\n",
       "</style>\n",
       "<table border=\"1\" class=\"dataframe\">\n",
       "  <thead>\n",
       "    <tr style=\"text-align: right;\">\n",
       "      <th></th>\n",
       "      <th>text</th>\n",
       "      <th>category</th>\n",
       "    </tr>\n",
       "    <tr>\n",
       "      <th>id</th>\n",
       "      <th></th>\n",
       "      <th></th>\n",
       "    </tr>\n",
       "  </thead>\n",
       "  <tbody>\n",
       "    <tr>\n",
       "      <th>614038714075979776</th>\n",
       "      <td>@NationalGallery Hey :) Appreciate if u check ...</td>\n",
       "      <td>not-relevant</td>\n",
       "    </tr>\n",
       "    <tr>\n",
       "      <th>610762492277604352</th>\n",
       "      <td>@NationalGallery Thank you for the information...</td>\n",
       "      <td>happy</td>\n",
       "    </tr>\n",
       "    <tr>\n",
       "      <th>614840376877318144</th>\n",
       "      <td>QT“@britishmuseum: New on the blog: Richard Pa...</td>\n",
       "      <td>nocode</td>\n",
       "    </tr>\n",
       "    <tr>\n",
       "      <th>610579745433063424</th>\n",
       "      <td>@sheilabarbican @Jon__Nash @PlymouthMuseum @Ba...</td>\n",
       "      <td>happy</td>\n",
       "    </tr>\n",
       "    <tr>\n",
       "      <th>608964877483433984</th>\n",
       "      <td>Innovation: The Emperor's New Clothes? Have a ...</td>\n",
       "      <td>nocode</td>\n",
       "    </tr>\n",
       "  </tbody>\n",
       "</table>\n",
       "</div>"
      ],
      "text/plain": [
       "                                                                 text  \\\n",
       "id                                                                      \n",
       "614038714075979776  @NationalGallery Hey :) Appreciate if u check ...   \n",
       "610762492277604352  @NationalGallery Thank you for the information...   \n",
       "614840376877318144  QT“@britishmuseum: New on the blog: Richard Pa...   \n",
       "610579745433063424  @sheilabarbican @Jon__Nash @PlymouthMuseum @Ba...   \n",
       "608964877483433984  Innovation: The Emperor's New Clothes? Have a ...   \n",
       "\n",
       "                        category  \n",
       "id                                \n",
       "614038714075979776  not-relevant  \n",
       "610762492277604352         happy  \n",
       "614840376877318144        nocode  \n",
       "610579745433063424         happy  \n",
       "608964877483433984        nocode  "
      ]
     },
     "execution_count": 178,
     "metadata": {},
     "output_type": "execute_result"
    }
   ],
   "source": [
    "df = pd.read_csv('smileannotationsfinal.csv', names=['id', 'text', 'category'])\n",
    "df.set_index('id', inplace=True)\n",
    "df.sample(5)"
   ]
  },
  {
   "cell_type": "code",
   "execution_count": 179,
   "metadata": {},
   "outputs": [
    {
     "data": {
      "text/plain": [
       "nocode               1572\n",
       "happy                1137\n",
       "not-relevant          214\n",
       "angry                  57\n",
       "surprise               35\n",
       "sad                    32\n",
       "happy|surprise         11\n",
       "happy|sad               9\n",
       "disgust|angry           7\n",
       "disgust                 6\n",
       "sad|disgust             2\n",
       "sad|angry               2\n",
       "sad|disgust|angry       1\n",
       "Name: category, dtype: int64"
      ]
     },
     "execution_count": 179,
     "metadata": {},
     "output_type": "execute_result"
    }
   ],
   "source": [
    "df['category'].value_counts()"
   ]
  },
  {
   "cell_type": "code",
   "execution_count": 180,
   "metadata": {},
   "outputs": [
    {
     "data": {
      "text/plain": [
       "Index(['text', 'category'], dtype='object')"
      ]
     },
     "execution_count": 180,
     "metadata": {},
     "output_type": "execute_result"
    }
   ],
   "source": [
    "df.columns"
   ]
  },
  {
   "cell_type": "code",
   "execution_count": 181,
   "metadata": {},
   "outputs": [],
   "source": [
    "del_rows = ['nocode', 'happy|surprise', 'happy|sad', 'disgust|angry', 'disgust', 'sad|disgust', 'sad|angry', 'sad|disgust|angry']\n"
   ]
  },
  {
   "cell_type": "code",
   "execution_count": 182,
   "metadata": {},
   "outputs": [],
   "source": [
    "filt = ~df['category'].isin(del_rows)\n",
    "df = df.loc[filt, :]"
   ]
  },
  {
   "cell_type": "code",
   "execution_count": 183,
   "metadata": {},
   "outputs": [
    {
     "data": {
      "text/plain": [
       "{'happy': 0, 'not-relevant': 1, 'angry': 2, 'sad': 3, 'surprise': 4}"
      ]
     },
     "execution_count": 183,
     "metadata": {},
     "output_type": "execute_result"
    }
   ],
   "source": [
    "label_dict = {}\n",
    "\n",
    "for indx, label in enumerate(df['category'].unique()):\n",
    "\n",
    "    label_dict[label] = indx\n",
    "\n",
    "label_dict"
   ]
  },
  {
   "cell_type": "code",
   "execution_count": 184,
   "metadata": {},
   "outputs": [
    {
     "data": {
      "text/html": [
       "<div>\n",
       "<style scoped>\n",
       "    .dataframe tbody tr th:only-of-type {\n",
       "        vertical-align: middle;\n",
       "    }\n",
       "\n",
       "    .dataframe tbody tr th {\n",
       "        vertical-align: top;\n",
       "    }\n",
       "\n",
       "    .dataframe thead th {\n",
       "        text-align: right;\n",
       "    }\n",
       "</style>\n",
       "<table border=\"1\" class=\"dataframe\">\n",
       "  <thead>\n",
       "    <tr style=\"text-align: right;\">\n",
       "      <th></th>\n",
       "      <th>text</th>\n",
       "      <th>category</th>\n",
       "      <th>label</th>\n",
       "    </tr>\n",
       "    <tr>\n",
       "      <th>id</th>\n",
       "      <th></th>\n",
       "      <th></th>\n",
       "      <th></th>\n",
       "    </tr>\n",
       "  </thead>\n",
       "  <tbody>\n",
       "    <tr>\n",
       "      <th>612994714254467072</th>\n",
       "      <td>@britishmuseum @BL_VisualArts</td>\n",
       "      <td>not-relevant</td>\n",
       "      <td>1</td>\n",
       "    </tr>\n",
       "    <tr>\n",
       "      <th>612193346543583232</th>\n",
       "      <td>Setting up at St Peters Cambridge for #CastleH...</td>\n",
       "      <td>happy</td>\n",
       "      <td>0</td>\n",
       "    </tr>\n",
       "    <tr>\n",
       "      <th>614728418660339712</th>\n",
       "      <td>Must see @tateliverpool #onlyinLiverpool #Poll...</td>\n",
       "      <td>happy</td>\n",
       "      <td>0</td>\n",
       "    </tr>\n",
       "    <tr>\n",
       "      <th>608374279328165889</th>\n",
       "      <td>Fantastic to be in London today speaking @ACEn...</td>\n",
       "      <td>happy</td>\n",
       "      <td>0</td>\n",
       "    </tr>\n",
       "    <tr>\n",
       "      <th>612297089335328768</th>\n",
       "      <td>@NationalGallery lots of disappointed people a...</td>\n",
       "      <td>sad</td>\n",
       "      <td>3</td>\n",
       "    </tr>\n",
       "  </tbody>\n",
       "</table>\n",
       "</div>"
      ],
      "text/plain": [
       "                                                                 text  \\\n",
       "id                                                                      \n",
       "612994714254467072                      @britishmuseum @BL_VisualArts   \n",
       "612193346543583232  Setting up at St Peters Cambridge for #CastleH...   \n",
       "614728418660339712  Must see @tateliverpool #onlyinLiverpool #Poll...   \n",
       "608374279328165889  Fantastic to be in London today speaking @ACEn...   \n",
       "612297089335328768  @NationalGallery lots of disappointed people a...   \n",
       "\n",
       "                        category  label  \n",
       "id                                       \n",
       "612994714254467072  not-relevant      1  \n",
       "612193346543583232         happy      0  \n",
       "614728418660339712         happy      0  \n",
       "608374279328165889         happy      0  \n",
       "612297089335328768           sad      3  "
      ]
     },
     "execution_count": 184,
     "metadata": {},
     "output_type": "execute_result"
    }
   ],
   "source": [
    "df['label'] = df['category'].replace(label_dict)\n",
    "df.sample(5)"
   ]
  },
  {
   "cell_type": "code",
   "execution_count": 185,
   "metadata": {},
   "outputs": [],
   "source": [
    "def preproccess(text):\n",
    "    # remove old style retweet text \"RT\"\n",
    "    text = re.sub(r'^RT[\\s]+', '', text)\n",
    "\n",
    "    # remove hyperlinks\n",
    "    text = re.sub(r'https?://[^\\s\\n\\r]+', '', text)\n",
    "    text = re.sub(r'\"(@[A-Za-z0-9]+)|([^0-9A-Za-z \\t])|(\\w+:\\/\\/\\S+)\"', '', text)\n",
    "    # remove hashtags\n",
    "    # only removing the hash # sign from the word\n",
    "    text = re.sub(r'#', '', text)\n",
    "    \n",
    "    return text"
   ]
  },
  {
   "cell_type": "code",
   "execution_count": 186,
   "metadata": {},
   "outputs": [
    {
     "data": {
      "text/html": [
       "<div>\n",
       "<style scoped>\n",
       "    .dataframe tbody tr th:only-of-type {\n",
       "        vertical-align: middle;\n",
       "    }\n",
       "\n",
       "    .dataframe tbody tr th {\n",
       "        vertical-align: top;\n",
       "    }\n",
       "\n",
       "    .dataframe thead th {\n",
       "        text-align: right;\n",
       "    }\n",
       "</style>\n",
       "<table border=\"1\" class=\"dataframe\">\n",
       "  <thead>\n",
       "    <tr style=\"text-align: right;\">\n",
       "      <th></th>\n",
       "      <th>text</th>\n",
       "      <th>category</th>\n",
       "      <th>label</th>\n",
       "    </tr>\n",
       "    <tr>\n",
       "      <th>id</th>\n",
       "      <th></th>\n",
       "      <th></th>\n",
       "      <th></th>\n",
       "    </tr>\n",
       "  </thead>\n",
       "  <tbody>\n",
       "    <tr>\n",
       "      <th>615253181354901505</th>\n",
       "      <td>@_TheWhitechapel \"Toward Parliament square at ...</td>\n",
       "      <td>happy</td>\n",
       "      <td>0</td>\n",
       "    </tr>\n",
       "    <tr>\n",
       "      <th>610545929637261314</th>\n",
       "      <td>Last RTs - some excellent #AskTheGallery quest...</td>\n",
       "      <td>happy</td>\n",
       "      <td>0</td>\n",
       "    </tr>\n",
       "    <tr>\n",
       "      <th>614556909031563264</th>\n",
       "      <td>Re-Defining our beauty - amazing group of crea...</td>\n",
       "      <td>happy</td>\n",
       "      <td>0</td>\n",
       "    </tr>\n",
       "    <tr>\n",
       "      <th>614312351043555328</th>\n",
       "      <td>@Hellboy919 @AboutLondon @MadameTussauds @Bate...</td>\n",
       "      <td>happy</td>\n",
       "      <td>0</td>\n",
       "    </tr>\n",
       "    <tr>\n",
       "      <th>614497173623996416</th>\n",
       "      <td>Fascinating exhibition coming to @britishmuseu...</td>\n",
       "      <td>happy</td>\n",
       "      <td>0</td>\n",
       "    </tr>\n",
       "  </tbody>\n",
       "</table>\n",
       "</div>"
      ],
      "text/plain": [
       "                                                                 text  \\\n",
       "id                                                                      \n",
       "615253181354901505  @_TheWhitechapel \"Toward Parliament square at ...   \n",
       "610545929637261314  Last RTs - some excellent #AskTheGallery quest...   \n",
       "614556909031563264  Re-Defining our beauty - amazing group of crea...   \n",
       "614312351043555328  @Hellboy919 @AboutLondon @MadameTussauds @Bate...   \n",
       "614497173623996416  Fascinating exhibition coming to @britishmuseu...   \n",
       "\n",
       "                   category  label  \n",
       "id                                  \n",
       "615253181354901505    happy      0  \n",
       "610545929637261314    happy      0  \n",
       "614556909031563264    happy      0  \n",
       "614312351043555328    happy      0  \n",
       "614497173623996416    happy      0  "
      ]
     },
     "execution_count": 186,
     "metadata": {},
     "output_type": "execute_result"
    }
   ],
   "source": [
    "df.head(5)"
   ]
  },
  {
   "cell_type": "code",
   "execution_count": 187,
   "metadata": {},
   "outputs": [],
   "source": [
    "df['text'] = df['text'].map(preproccess)\n"
   ]
  },
  {
   "cell_type": "code",
   "execution_count": 188,
   "metadata": {},
   "outputs": [
    {
     "data": {
      "text/html": [
       "<div>\n",
       "<style scoped>\n",
       "    .dataframe tbody tr th:only-of-type {\n",
       "        vertical-align: middle;\n",
       "    }\n",
       "\n",
       "    .dataframe tbody tr th {\n",
       "        vertical-align: top;\n",
       "    }\n",
       "\n",
       "    .dataframe thead th {\n",
       "        text-align: right;\n",
       "    }\n",
       "</style>\n",
       "<table border=\"1\" class=\"dataframe\">\n",
       "  <thead>\n",
       "    <tr style=\"text-align: right;\">\n",
       "      <th></th>\n",
       "      <th>text</th>\n",
       "      <th>category</th>\n",
       "      <th>label</th>\n",
       "    </tr>\n",
       "    <tr>\n",
       "      <th>id</th>\n",
       "      <th></th>\n",
       "      <th></th>\n",
       "      <th></th>\n",
       "    </tr>\n",
       "  </thead>\n",
       "  <tbody>\n",
       "    <tr>\n",
       "      <th>612947803975876608</th>\n",
       "      <td>TateStIves acquires Barbara Hepworths Palais d...</td>\n",
       "      <td>happy</td>\n",
       "      <td>0</td>\n",
       "    </tr>\n",
       "    <tr>\n",
       "      <th>615104809423781888</th>\n",
       "      <td>tateliverpool DavidSandum sooooo wish I was th...</td>\n",
       "      <td>happy</td>\n",
       "      <td>0</td>\n",
       "    </tr>\n",
       "    <tr>\n",
       "      <th>613016852588064768</th>\n",
       "      <td>britishmuseum Saw this for the second time on ...</td>\n",
       "      <td>happy</td>\n",
       "      <td>0</td>\n",
       "    </tr>\n",
       "    <tr>\n",
       "      <th>611577978661814273</th>\n",
       "      <td>Spent my afternoon admiring the enchanting obj...</td>\n",
       "      <td>happy</td>\n",
       "      <td>0</td>\n",
       "    </tr>\n",
       "    <tr>\n",
       "      <th>614767094345936896</th>\n",
       "      <td>StephenXKing profjoecain britishmuseum I took ...</td>\n",
       "      <td>happy</td>\n",
       "      <td>0</td>\n",
       "    </tr>\n",
       "  </tbody>\n",
       "</table>\n",
       "</div>"
      ],
      "text/plain": [
       "                                                                 text  \\\n",
       "id                                                                      \n",
       "612947803975876608  TateStIves acquires Barbara Hepworths Palais d...   \n",
       "615104809423781888  tateliverpool DavidSandum sooooo wish I was th...   \n",
       "613016852588064768  britishmuseum Saw this for the second time on ...   \n",
       "611577978661814273  Spent my afternoon admiring the enchanting obj...   \n",
       "614767094345936896  StephenXKing profjoecain britishmuseum I took ...   \n",
       "\n",
       "                   category  label  \n",
       "id                                  \n",
       "612947803975876608    happy      0  \n",
       "615104809423781888    happy      0  \n",
       "613016852588064768    happy      0  \n",
       "611577978661814273    happy      0  \n",
       "614767094345936896    happy      0  "
      ]
     },
     "execution_count": 188,
     "metadata": {},
     "output_type": "execute_result"
    }
   ],
   "source": [
    "df.head(5)"
   ]
  }
 ],
 "metadata": {
  "kernelspec": {
   "display_name": "base",
   "language": "python",
   "name": "python3"
  },
  "language_info": {
   "codemirror_mode": {
    "name": "ipython",
    "version": 3
   },
   "file_extension": ".py",
   "mimetype": "text/x-python",
   "name": "python",
   "nbconvert_exporter": "python",
   "pygments_lexer": "ipython3",
   "version": "3.10.9"
  },
  "orig_nbformat": 4,
  "vscode": {
   "interpreter": {
    "hash": "e61b79be2621c986fdea76ccdbeddc1e4d24bb6e933c4c3e028d2d0018eb94f2"
   }
  }
 },
 "nbformat": 4,
 "nbformat_minor": 2
}
